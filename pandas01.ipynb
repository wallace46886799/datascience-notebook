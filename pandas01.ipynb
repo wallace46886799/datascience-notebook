{
  "nbformat": 4,
  "nbformat_minor": 0,
  "metadata": {
    "colab": {
      "provenance": [],
      "authorship_tag": "ABX9TyMuUqnlrcIXVsmLPTK0vPm/",
      "include_colab_link": true
    },
    "kernelspec": {
      "name": "python3",
      "display_name": "Python 3"
    },
    "language_info": {
      "name": "python"
    }
  },
  "cells": [
    {
      "cell_type": "markdown",
      "metadata": {
        "id": "view-in-github",
        "colab_type": "text"
      },
      "source": [
        "<a href=\"https://colab.research.google.com/github/wallace46886799/datascience-notebook/blob/main/pandas01.ipynb\" target=\"_parent\"><img src=\"https://colab.research.google.com/assets/colab-badge.svg\" alt=\"Open In Colab\"/></a>"
      ]
    },
    {
      "cell_type": "markdown",
      "source": [
        "这是Pandas的第一节课"
      ],
      "metadata": {
        "id": "7ETkdPpqcOKd"
      }
    },
    {
      "cell_type": "code",
      "execution_count": null,
      "metadata": {
        "id": "U6L_4tRzcAke"
      },
      "outputs": [],
      "source": [
        "import pandas as pd\n",
        "print(pd.__version__)"
      ]
    }
  ]
}